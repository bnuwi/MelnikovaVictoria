{
 "cells": [
  {
   "cell_type": "code",
   "execution_count": 7,
   "id": "f1c666e4",
   "metadata": {},
   "outputs": [
    {
     "name": "stdout",
     "output_type": "stream",
     "text": [
      "Номер А222ВС валиден. Регион: 96.\n",
      "Номер не валиден.\n"
     ]
    }
   ],
   "source": [
    "import re\n",
    "\n",
    "def check_car_id(car_id: str) -> str:\n",
    "    allowed_letters = \"АВЕКМНОРСТУХ\"\n",
    "    pattern = fr'^([{allowed_letters}]\\d{{3}}[{allowed_letters}]{{2}}\\d{{2,3}})$'\n",
    "    match = re.match(pattern, car_id)\n",
    "\n",
    "    if match:\n",
    "        region = re.search(r'\\d{2,3}$', car_id).group()\n",
    "        number = car_id[:-len(region)]\n",
    "        return f'Номер {number} валиден. Регион: {region}.'\n",
    "    else:\n",
    "        return 'Номер не валиден.'\n",
    "\n",
    "print(check_car_id(car_id='А222ВС96'))\n",
    "print(check_car_id(car_id='АБ22ВВ193'))"
   ]
  },
  {
   "cell_type": "code",
   "execution_count": 6,
   "id": "b1d918a2",
   "metadata": {},
   "outputs": [
    {
     "data": {
      "text/plain": [
       "'Напишите функцию, которая будет удалять все последовательные повторы слов из заданной строки при помощи регулярных выражений'"
      ]
     },
     "execution_count": 6,
     "metadata": {},
     "output_type": "execute_result"
    }
   ],
   "source": [
    "import re\n",
    "\n",
    "def remove_repeated_words(text: str) -> str:\n",
    "    pattern = r'\\b(\\w+)(\\s+\\1\\b)+'\n",
    "    result = re.sub(pattern, r'\\1', text, flags=re.IGNORECASE)\n",
    "    return result\n",
    "\n",
    "remove_repeated_words(text='Напишите функцию функцию, которая будет будет будет будет удалять все все все все последовательные повторы слов из из из из заданной строки строки при помощи регулярных выражений')"
   ]
  },
  {
   "cell_type": "code",
   "execution_count": null,
   "id": "facae701",
   "metadata": {},
   "outputs": [],
   "source": []
  }
 ],
 "metadata": {
  "kernelspec": {
   "display_name": ".venv",
   "language": "python",
   "name": "python3"
  },
  "language_info": {
   "codemirror_mode": {
    "name": "ipython",
    "version": 3
   },
   "file_extension": ".py",
   "mimetype": "text/x-python",
   "name": "python",
   "nbconvert_exporter": "python",
   "pygments_lexer": "ipython3",
   "version": "3.12.3"
  }
 },
 "nbformat": 4,
 "nbformat_minor": 5
}
